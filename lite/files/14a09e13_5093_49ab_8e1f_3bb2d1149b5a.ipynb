{
    "nbformat": 4,
    "nbformat_minor": 5,
    "metadata": {
        "kernelspec": {
            "display_name": "Python",
            "language": "python",
            "name": "python"
        },
        "language_info": {
            "name": "python"
        }
    },
    "cells": [
        {
            "id": "f5e0b91d",
            "cell_type": "code",
            "metadata": {},
            "execution_count": null,
            "source": "import pywt\nwavelet = pywt.ContinuousWavelet('gaus1')\nprint(wavelet)",
            "outputs": [
                {
                    "output_type": "execute_result",
                    "metadata": {},
                    "data": {
                        "text/plain": "ContinuousWavelet gaus1\n  Family name:    Gaussian\n  Short name:     gaus\n  Symmetry:       anti-symmetric\n  DWT:            False\n  CWT:            True\n  Complex CWT:    False"
                    },
                    "execution_count": null
                }
            ]
        }
    ]
}