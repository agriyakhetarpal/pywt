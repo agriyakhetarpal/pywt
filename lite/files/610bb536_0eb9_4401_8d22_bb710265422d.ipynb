{
    "nbformat": 4,
    "nbformat_minor": 5,
    "metadata": {
        "kernelspec": {
            "display_name": "Python",
            "language": "python",
            "name": "python"
        },
        "language_info": {
            "name": "python"
        }
    },
    "cells": [
        {
            "id": "dec50081",
            "cell_type": "markdown",
            "source": "<div class='alert alert-warning'>\n\nThese interactive examples with JupyterLite are experimental and\nmay not always work as expected. The execution of cells containing import\nstatements can result in high bandwidth usage and may take a long time to\nload. They may not be in sync with the latest PyWavelets release.\n\nShall you encounter any issues, please feel free to report them on the\n[PyWavelets issue tracker](https://github.com/PyWavelets/pywt/issues).\n\n</div>",
            "metadata": {}
        },
        {
            "id": "dc38bc7c",
            "cell_type": "code",
            "metadata": {},
            "execution_count": null,
            "source": "import numpy as np\nimport pywt\ndata = np.linspace(1, 4, 7)\ndata",
            "outputs": [
                {
                    "output_type": "execute_result",
                    "metadata": {},
                    "data": {
                        "text/plain": "array([ 1. ,  1.5,  2. ,  2.5,  3. ,  3.5,  4. ])"
                    },
                    "execution_count": null
                }
            ]
        },
        {
            "id": "150f6044",
            "cell_type": "code",
            "metadata": {},
            "execution_count": null,
            "source": "pywt.threshold(data, 2, 'soft')",
            "outputs": [
                {
                    "output_type": "execute_result",
                    "metadata": {},
                    "data": {
                        "text/plain": "array([ 0. ,  0. ,  0. ,  0.5,  1. ,  1.5,  2. ])"
                    },
                    "execution_count": null
                }
            ]
        },
        {
            "id": "c3705457",
            "cell_type": "code",
            "metadata": {},
            "execution_count": null,
            "source": "pywt.threshold(data, 2, 'hard')",
            "outputs": [
                {
                    "output_type": "execute_result",
                    "metadata": {},
                    "data": {
                        "text/plain": "array([ 0. ,  0. ,  2. ,  2.5,  3. ,  3.5,  4. ])"
                    },
                    "execution_count": null
                }
            ]
        },
        {
            "id": "e602b609",
            "cell_type": "code",
            "metadata": {},
            "execution_count": null,
            "source": "pywt.threshold(data, 2, 'garrote')",
            "outputs": [
                {
                    "output_type": "execute_result",
                    "metadata": {},
                    "data": {
                        "text/plain": "array([ 0.        ,  0.        ,  0.        ,  0.9       ,  1.66666667,\n        2.35714286,  3.        ])"
                    },
                    "execution_count": null
                }
            ]
        },
        {
            "id": "23e50275",
            "cell_type": "code",
            "metadata": {},
            "execution_count": null,
            "source": "pywt.threshold(data, 2, 'greater')",
            "outputs": [
                {
                    "output_type": "execute_result",
                    "metadata": {},
                    "data": {
                        "text/plain": "array([ 0. ,  0. ,  2. ,  2.5,  3. ,  3.5,  4. ])"
                    },
                    "execution_count": null
                }
            ]
        },
        {
            "id": "57bae6ee",
            "cell_type": "code",
            "metadata": {},
            "execution_count": null,
            "source": "pywt.threshold(data, 2, 'less')",
            "outputs": [
                {
                    "output_type": "execute_result",
                    "metadata": {},
                    "data": {
                        "text/plain": "array([ 1. ,  1.5,  2. ,  0. ,  0. ,  0. ,  0. ])"
                    },
                    "execution_count": null
                }
            ]
        }
    ]
}