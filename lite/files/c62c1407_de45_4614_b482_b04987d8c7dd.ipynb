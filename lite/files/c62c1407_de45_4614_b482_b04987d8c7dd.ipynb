{
    "nbformat": 4,
    "nbformat_minor": 5,
    "metadata": {
        "kernelspec": {
            "display_name": "Python",
            "language": "python",
            "name": "python"
        },
        "language_info": {
            "name": "python"
        }
    },
    "cells": [
        {
            "id": "cca54a82",
            "cell_type": "code",
            "metadata": {},
            "execution_count": null,
            "source": "import pywt\n(a, d) = pywt.dwt([1,2,3,4,5,6], 'db2', 'smooth')\n(a, d) = pywt.dwt([1,2,3,4,5,6], pywt.Wavelet('db2'), pywt.Modes.smooth)",
            "outputs": []
        }
    ]
}