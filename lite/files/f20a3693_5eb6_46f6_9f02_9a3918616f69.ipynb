{
    "nbformat": 4,
    "nbformat_minor": 5,
    "metadata": {
        "kernelspec": {
            "display_name": "Python",
            "language": "python",
            "name": "python"
        },
        "language_info": {
            "name": "python"
        }
    },
    "cells": [
        {
            "id": "d003edee",
            "cell_type": "markdown",
            "source": "<div class='alert alert-warning'>\n\nThese interactive examples with JupyterLite are experimental and\nmay not always work as expected. The execution of cells containing import\nstatements can result in high bandwidth usage and may take a long time to\nload. They may not be in sync with the latest PyWavelets release.\n\nShall you encounter any issues, please feel free to report them on the\n[PyWavelets issue tracker](https://github.com/PyWavelets/pywt/issues).\n\n</div>",
            "metadata": {}
        },
        {
            "id": "8415aa94",
            "cell_type": "code",
            "metadata": {},
            "execution_count": null,
            "source": "import pywt\ncamera = pywt.data.camera()\ndoppler = pywt.data.demo_signal('doppler', 1024)\navailable_signals = pywt.data.demo_signal('list')\nprint(available_signals)",
            "outputs": []
        }
    ]
}