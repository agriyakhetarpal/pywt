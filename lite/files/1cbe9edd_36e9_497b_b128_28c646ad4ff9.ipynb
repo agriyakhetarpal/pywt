{
    "nbformat": 4,
    "nbformat_minor": 5,
    "metadata": {
        "kernelspec": {
            "display_name": "Python",
            "language": "python",
            "name": "python"
        },
        "language_info": {
            "name": "python"
        }
    },
    "cells": [
        {
            "id": "0a528349",
            "cell_type": "markdown",
            "source": "<div class='alert alert-warning'>\n\nThese interactive examples with JupyterLite are experimental and\nmay not always work as expected. The execution of cells containing import\nstatements can result in high bandwidth usage and may take a long time to\nload. They may not be in sync with the latest PyWavelets release.\n\nShall you encounter any issues, please feel free to report them on the\n[PyWavelets issue tracker](https://github.com/PyWavelets/pywt/issues).\n\n</div>",
            "metadata": {}
        },
        {
            "id": "4d6fda0b",
            "cell_type": "code",
            "metadata": {},
            "execution_count": null,
            "source": "from pywt import wavedec\ncoeffs = wavedec([1,2,3,4,5,6,7,8], 'db1', level=2)\ncA2, cD2, cD1 = coeffs\ncD1",
            "outputs": [
                {
                    "output_type": "execute_result",
                    "metadata": {},
                    "data": {
                        "text/plain": "array([-0.70710678, -0.70710678, -0.70710678, -0.70710678])"
                    },
                    "execution_count": null
                }
            ]
        },
        {
            "id": "c6955a3e",
            "cell_type": "code",
            "metadata": {},
            "execution_count": null,
            "source": "cD2",
            "outputs": [
                {
                    "output_type": "execute_result",
                    "metadata": {},
                    "data": {
                        "text/plain": "array([-2., -2.])"
                    },
                    "execution_count": null
                }
            ]
        },
        {
            "id": "80eb67f4",
            "cell_type": "code",
            "metadata": {},
            "execution_count": null,
            "source": "cA2",
            "outputs": [
                {
                    "output_type": "execute_result",
                    "metadata": {},
                    "data": {
                        "text/plain": "array([  5.,  13.])"
                    },
                    "execution_count": null
                }
            ]
        }
    ]
}