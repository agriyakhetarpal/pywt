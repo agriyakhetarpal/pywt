{
    "nbformat": 4,
    "nbformat_minor": 5,
    "metadata": {
        "kernelspec": {
            "display_name": "Python",
            "language": "python",
            "name": "python"
        },
        "language_info": {
            "name": "python"
        }
    },
    "cells": [
        {
            "id": "396c423b",
            "cell_type": "markdown",
            "source": "<div class='alert alert-warning'>\n\nThese interactive examples with JupyterLite are experimental and\nmay not always work as expected. The execution of cells containing import\nstatements can result in high bandwidth usage and may take a long time to\nload. They may not be in sync with the latest PyWavelets release.\n\nShall you encounter any issues, please feel free to report them on the\n[PyWavelets issue tracker](https://github.com/PyWavelets/pywt/issues).\n\n</div>",
            "metadata": {}
        },
        {
            "id": "61a414fe",
            "cell_type": "code",
            "metadata": {},
            "execution_count": null,
            "source": "import pywt\nimport numpy as np\nimport matplotlib.pyplot as plt\nx = np.arange(512)\ny = np.sin(2*np.pi*x/32)\ncoef, freqs=pywt.cwt(y,np.arange(1,129),'gaus1')\nplt.matshow(coef) # doctest: +SKIP\nplt.show() # doctest: +SKIP",
            "outputs": []
        },
        {
            "id": "3e86135a",
            "cell_type": "code",
            "metadata": {},
            "execution_count": null,
            "source": "import pywt\nimport numpy as np\nimport matplotlib.pyplot as plt\nt = np.linspace(-1, 1, 200, endpoint=False)\nsig  = np.cos(2 * np.pi * 7 * t) + np.real(np.exp(-7*(t-0.4)**2)*np.exp(1j*2*np.pi*2*(t-0.4)))\nwidths = np.arange(1, 31)\ncwtmatr, freqs = pywt.cwt(sig, widths, 'mexh')\nplt.imshow(cwtmatr, extent=[-1, 1, 1, 31], cmap='PRGn', aspect='auto',\n           vmax=abs(cwtmatr).max(), vmin=-abs(cwtmatr).max())  # doctest: +SKIP\nplt.show() # doctest: +SKIP",
            "outputs": []
        }
    ]
}