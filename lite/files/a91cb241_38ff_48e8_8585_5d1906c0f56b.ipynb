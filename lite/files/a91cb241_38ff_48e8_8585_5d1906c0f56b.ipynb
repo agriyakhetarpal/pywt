{
    "nbformat": 4,
    "nbformat_minor": 5,
    "metadata": {
        "kernelspec": {
            "display_name": "Python",
            "language": "python",
            "name": "python"
        },
        "language_info": {
            "name": "python"
        }
    },
    "cells": [
        {
            "id": "844b3f3b",
            "cell_type": "markdown",
            "source": "<div class='alert alert-warning'>\n\nThese interactive examples with JupyterLite are experimental and\nmay not always work as expected. The execution of cells containing import\nstatements can result in high bandwidth usage and may take a long time to\nload. They may not be in sync with the latest PyWavelets release.\n\nShall you encounter any issues, please feel free to report them on the\n[PyWavelets issue tracker](https://github.com/PyWavelets/pywt/issues).\n\n</div>",
            "metadata": {}
        },
        {
            "id": "67a39d2d",
            "cell_type": "code",
            "metadata": {},
            "execution_count": null,
            "source": "import pywt\n(cA, cD) = pywt.dwt([1,2,3,4,5,6], 'db2', 'smooth')\npywt.idwt(cA, cD, 'db2', 'smooth')",
            "outputs": [
                {
                    "output_type": "execute_result",
                    "metadata": {},
                    "data": {
                        "text/plain": "array([ 1.,  2.,  3.,  4.,  5.,  6.])"
                    },
                    "execution_count": null
                }
            ]
        },
        {
            "id": "922d67ea",
            "cell_type": "markdown",
            "source": "One of the neat features of ``idwt`` is that one of the ``cA`` and ``cD``\narguments can be set to None.  In that situation the reconstruction will be\nperformed using only the other one.  Mathematically speaking, this is\nequivalent to passing a zero-filled array as one of the arguments.\n",
            "metadata": {}
        },
        {
            "id": "261e7978",
            "cell_type": "code",
            "metadata": {},
            "execution_count": null,
            "source": "(cA, cD) = pywt.dwt([1,2,3,4,5,6], 'db2', 'smooth')\nA = pywt.idwt(cA, None, 'db2', 'smooth')\nD = pywt.idwt(None, cD, 'db2', 'smooth')\nA + D",
            "outputs": [
                {
                    "output_type": "execute_result",
                    "metadata": {},
                    "data": {
                        "text/plain": "array([ 1.,  2.,  3.,  4.,  5.,  6.])"
                    },
                    "execution_count": null
                }
            ]
        }
    ]
}