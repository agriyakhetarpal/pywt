{
    "nbformat": 4,
    "nbformat_minor": 5,
    "metadata": {
        "kernelspec": {
            "display_name": "Python",
            "language": "python",
            "name": "python"
        },
        "language_info": {
            "name": "python"
        }
    },
    "cells": [
        {
            "id": "63e9bc59",
            "cell_type": "code",
            "metadata": {},
            "execution_count": null,
            "source": "import pywt\nwavelet = pywt.ContinuousWavelet('gaus1')",
            "outputs": []
        }
    ]
}