{
    "nbformat": 4,
    "nbformat_minor": 5,
    "metadata": {
        "kernelspec": {
            "display_name": "Python",
            "language": "python",
            "name": "python"
        },
        "language_info": {
            "name": "python"
        }
    },
    "cells": [
        {
            "id": "f67ea356",
            "cell_type": "markdown",
            "source": "<div class='alert alert-warning'>\n\nThese interactive examples with JupyterLite are experimental and\nmay not always work as expected. The execution of cells containing import\nstatements can result in high bandwidth usage and may take a long time to\nload. They may not be in sync with the latest PyWavelets release.\n\nShall you encounter any issues, please feel free to report them on the\n[PyWavelets issue tracker](https://github.com/PyWavelets/pywt/issues).\n\n</div>",
            "metadata": {}
        },
        {
            "id": "825217da",
            "cell_type": "code",
            "metadata": {},
            "execution_count": null,
            "source": "def format_array(arr):\n    return \"[%s]\" % \", \".join([\"%.14f\" % x for x in arr])",
            "outputs": []
        },
        {
            "id": "979e80e1",
            "cell_type": "code",
            "metadata": {},
            "execution_count": null,
            "source": "import pywt\nwavelet = pywt.Wavelet('db1')\nprint(wavelet)",
            "outputs": [
                {
                    "output_type": "execute_result",
                    "metadata": {},
                    "data": {
                        "text/plain": "Wavelet db1\n  Family name:    Daubechies\n  Short name:     db\n  Filters length: 2\n  Orthogonal:     True\n  Biorthogonal:   True\n  Symmetry:       asymmetric\n  DWT:            True\n  CWT:            False"
                    },
                    "execution_count": null
                }
            ]
        },
        {
            "id": "282fea64",
            "cell_type": "code",
            "metadata": {},
            "execution_count": null,
            "source": "print(format_array(wavelet.dec_lo), format_array(wavelet.dec_hi))",
            "outputs": [
                {
                    "output_type": "execute_result",
                    "metadata": {},
                    "data": {
                        "text/plain": "[0.70710678118655, 0.70710678118655] [-0.70710678118655, 0.70710678118655]"
                    },
                    "execution_count": null
                }
            ]
        },
        {
            "id": "f1fb5934",
            "cell_type": "code",
            "metadata": {},
            "execution_count": null,
            "source": "print(format_array(wavelet.rec_lo), format_array(wavelet.rec_hi))",
            "outputs": [
                {
                    "output_type": "execute_result",
                    "metadata": {},
                    "data": {
                        "text/plain": "[0.70710678118655, 0.70710678118655] [0.70710678118655, -0.70710678118655]"
                    },
                    "execution_count": null
                }
            ]
        }
    ]
}