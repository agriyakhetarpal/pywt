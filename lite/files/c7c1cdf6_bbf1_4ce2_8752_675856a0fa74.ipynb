{
    "nbformat": 4,
    "nbformat_minor": 5,
    "metadata": {
        "kernelspec": {
            "display_name": "Python",
            "language": "python",
            "name": "python"
        },
        "language_info": {
            "name": "python"
        }
    },
    "cells": [
        {
            "id": "2cd495c6",
            "cell_type": "markdown",
            "source": "<div class='alert alert-warning'>\n\nThese interactive examples with JupyterLite are experimental and\nmay not always work as expected. The execution of cells containing import\nstatements can result in high bandwidth usage and may take a long time to\nload. They may not be in sync with the latest PyWavelets release.\n\nShall you encounter any issues, please feel free to report them on the\n[PyWavelets issue tracker](https://github.com/PyWavelets/pywt/issues).\n\n</div>",
            "metadata": {}
        },
        {
            "id": "7200edd9",
            "cell_type": "code",
            "metadata": {},
            "execution_count": null,
            "source": "import pywt\nfrom numpy.testing import assert_array_almost_equal\ncam = pywt.data.camera()\ncoeffs = pywt.wavedecn(cam, wavelet='db2', level=3)\narr, coeff_slices, coeff_shapes = pywt.ravel_coeffs(coeffs)\ncoeffs_from_arr = pywt.unravel_coeffs(arr, coeff_slices, coeff_shapes,\n                                      output_format='wavedecn')\ncam_recon = pywt.waverecn(coeffs_from_arr, wavelet='db2')\nassert_array_almost_equal(cam, cam_recon)",
            "outputs": []
        }
    ]
}