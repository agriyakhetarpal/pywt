{
    "nbformat": 4,
    "nbformat_minor": 5,
    "metadata": {
        "kernelspec": {
            "display_name": "Python",
            "language": "python",
            "name": "python"
        },
        "language_info": {
            "name": "python"
        }
    },
    "cells": [
        {
            "id": "801d929c",
            "cell_type": "code",
            "metadata": {},
            "execution_count": null,
            "source": "import pywt\nwavelet = pywt.DiscreteContinuousWavelet('db1')\nprint(wavelet)",
            "outputs": [
                {
                    "output_type": "execute_result",
                    "metadata": {},
                    "data": {
                        "text/plain": "Wavelet db1\n  Family name:    Daubechies\n  Short name:     db\n  Filters length: 2\n  Orthogonal:     True\n  Biorthogonal:   True\n  Symmetry:       asymmetric\n  DWT:            True\n  CWT:            False"
                    },
                    "execution_count": null
                }
            ]
        },
        {
            "id": "2084602a",
            "cell_type": "code",
            "metadata": {},
            "execution_count": null,
            "source": "wavelet = pywt.DiscreteContinuousWavelet('gaus1')\nprint(wavelet)",
            "outputs": [
                {
                    "output_type": "execute_result",
                    "metadata": {},
                    "data": {
                        "text/plain": "ContinuousWavelet gaus1\n  Family name:    Gaussian\n  Short name:     gaus\n  Symmetry:       anti-symmetric\n  DWT:            False\n  CWT:            True\n  Complex CWT:    False"
                    },
                    "execution_count": null
                }
            ]
        }
    ]
}