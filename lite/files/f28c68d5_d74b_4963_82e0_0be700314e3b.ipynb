{
    "nbformat": 4,
    "nbformat_minor": 5,
    "metadata": {
        "kernelspec": {
            "display_name": "Python",
            "language": "python",
            "name": "python"
        },
        "language_info": {
            "name": "python"
        }
    },
    "cells": [
        {
            "id": "71a9e1b2",
            "cell_type": "markdown",
            "source": "<div class='alert alert-warning'>\n\nThese interactive examples with JupyterLite are experimental and\nmay not always work as expected. The execution of cells containing import\nstatements can result in high bandwidth usage and may take a long time to\nload. They may not be in sync with the latest PyWavelets release.\n\nShall you encounter any issues, please feel free to report them on the\n[PyWavelets issue tracker](https://github.com/PyWavelets/pywt/issues).\n\n</div>",
            "metadata": {}
        },
        {
            "id": "7d36e505",
            "cell_type": "code",
            "metadata": {},
            "execution_count": null,
            "source": "import numpy as np\nimport pywt\ndata = np.linspace(1, 4, 7)\ndata",
            "outputs": [
                {
                    "output_type": "execute_result",
                    "metadata": {},
                    "data": {
                        "text/plain": "array([ 1. ,  1.5,  2. ,  2.5,  3. ,  3.5,  4. ])"
                    },
                    "execution_count": null
                }
            ]
        },
        {
            "id": "f5101e69",
            "cell_type": "code",
            "metadata": {},
            "execution_count": null,
            "source": "pywt.threshold(data, 2, 'soft')",
            "outputs": [
                {
                    "output_type": "execute_result",
                    "metadata": {},
                    "data": {
                        "text/plain": "array([ 0. ,  0. ,  0. ,  0.5,  1. ,  1.5,  2. ])"
                    },
                    "execution_count": null
                }
            ]
        },
        {
            "id": "b8bb738d",
            "cell_type": "code",
            "metadata": {},
            "execution_count": null,
            "source": "pywt.threshold(data, 2, 'hard')",
            "outputs": [
                {
                    "output_type": "execute_result",
                    "metadata": {},
                    "data": {
                        "text/plain": "array([ 0. ,  0. ,  2. ,  2.5,  3. ,  3.5,  4. ])"
                    },
                    "execution_count": null
                }
            ]
        },
        {
            "id": "3b63c2ba",
            "cell_type": "code",
            "metadata": {},
            "execution_count": null,
            "source": "pywt.threshold(data, 2, 'garrote')",
            "outputs": [
                {
                    "output_type": "execute_result",
                    "metadata": {},
                    "data": {
                        "text/plain": "array([ 0.        ,  0.        ,  0.        ,  0.9       ,  1.66666667,\n        2.35714286,  3.        ])"
                    },
                    "execution_count": null
                }
            ]
        },
        {
            "id": "c3ca1cbb",
            "cell_type": "code",
            "metadata": {},
            "execution_count": null,
            "source": "pywt.threshold(data, 2, 'greater')",
            "outputs": [
                {
                    "output_type": "execute_result",
                    "metadata": {},
                    "data": {
                        "text/plain": "array([ 0. ,  0. ,  2. ,  2.5,  3. ,  3.5,  4. ])"
                    },
                    "execution_count": null
                }
            ]
        },
        {
            "id": "9cadffc2",
            "cell_type": "code",
            "metadata": {},
            "execution_count": null,
            "source": "pywt.threshold(data, 2, 'less')",
            "outputs": [
                {
                    "output_type": "execute_result",
                    "metadata": {},
                    "data": {
                        "text/plain": "array([ 1. ,  1.5,  2. ,  0. ,  0. ,  0. ,  0. ])"
                    },
                    "execution_count": null
                }
            ]
        }
    ]
}