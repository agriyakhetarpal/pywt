{
    "nbformat": 4,
    "nbformat_minor": 5,
    "metadata": {
        "kernelspec": {
            "display_name": "Python",
            "language": "python",
            "name": "python"
        },
        "language_info": {
            "name": "python"
        }
    },
    "cells": [
        {
            "id": "bc5497bf",
            "cell_type": "markdown",
            "source": "<div class='alert alert-warning'>\n\nThese interactive examples with JupyterLite are experimental and\nmay not always work as expected. The execution of cells containing import\nstatements can result in high bandwidth usage and may take a long time to\nload. They may not be in sync with the latest PyWavelets release.\n\nShall you encounter any issues, please feel free to report them on the\n[PyWavelets issue tracker](https://github.com/PyWavelets/pywt/issues).\n\n</div>",
            "metadata": {}
        },
        {
            "id": "7cfce250",
            "cell_type": "code",
            "metadata": {},
            "execution_count": null,
            "source": "import numpy as np\nimport pywt\ndata = np.ones((4,4), dtype=np.float64)\ncoeffs = pywt.dwt2(data, 'haar')\ncA, (cH, cV, cD) = coeffs\ncA",
            "outputs": [
                {
                    "output_type": "execute_result",
                    "metadata": {},
                    "data": {
                        "text/plain": "array([[ 2.,  2.],\n       [ 2.,  2.]])"
                    },
                    "execution_count": null
                }
            ]
        },
        {
            "id": "b3adc03c",
            "cell_type": "code",
            "metadata": {},
            "execution_count": null,
            "source": "cV",
            "outputs": [
                {
                    "output_type": "execute_result",
                    "metadata": {},
                    "data": {
                        "text/plain": "array([[ 0.,  0.],\n       [ 0.,  0.]])"
                    },
                    "execution_count": null
                }
            ]
        }
    ]
}