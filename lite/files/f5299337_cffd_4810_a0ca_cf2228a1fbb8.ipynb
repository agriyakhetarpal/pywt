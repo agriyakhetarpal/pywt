{
    "nbformat": 4,
    "nbformat_minor": 5,
    "metadata": {
        "kernelspec": {
            "display_name": "Python",
            "language": "python",
            "name": "python"
        },
        "language_info": {
            "name": "python"
        }
    },
    "cells": [
        {
            "id": "b6e92323",
            "cell_type": "markdown",
            "source": "<div class='alert alert-warning'>\n\nThese interactive examples with JupyterLite are experimental and\nmay not always work as expected. The execution of cells containing import\nstatements can result in high bandwidth usage and may take a long time to\nload. They may not be in sync with the latest PyWavelets release.\n\nShall you encounter any issues, please feel free to report them on the\n[PyWavelets issue tracker](https://github.com/PyWavelets/pywt/issues).\n\n</div>",
            "metadata": {}
        },
        {
            "id": "6649c0d2",
            "cell_type": "code",
            "metadata": {},
            "execution_count": null,
            "source": "import numpy as np\nimport pywt\ndata = np.linspace(1, 4, 7)\ndata",
            "outputs": [
                {
                    "output_type": "execute_result",
                    "metadata": {},
                    "data": {
                        "text/plain": "array([ 1. ,  1.5,  2. ,  2.5,  3. ,  3.5,  4. ])"
                    },
                    "execution_count": null
                }
            ]
        },
        {
            "id": "d97633f3",
            "cell_type": "code",
            "metadata": {},
            "execution_count": null,
            "source": "pywt.threshold(data, 2, 'soft')",
            "outputs": [
                {
                    "output_type": "execute_result",
                    "metadata": {},
                    "data": {
                        "text/plain": "array([ 0. ,  0. ,  0. ,  0.5,  1. ,  1.5,  2. ])"
                    },
                    "execution_count": null
                }
            ]
        },
        {
            "id": "effff950",
            "cell_type": "code",
            "metadata": {},
            "execution_count": null,
            "source": "pywt.threshold(data, 2, 'hard')",
            "outputs": [
                {
                    "output_type": "execute_result",
                    "metadata": {},
                    "data": {
                        "text/plain": "array([ 0. ,  0. ,  2. ,  2.5,  3. ,  3.5,  4. ])"
                    },
                    "execution_count": null
                }
            ]
        },
        {
            "id": "bbc0d667",
            "cell_type": "code",
            "metadata": {},
            "execution_count": null,
            "source": "pywt.threshold(data, 2, 'garrote')",
            "outputs": [
                {
                    "output_type": "execute_result",
                    "metadata": {},
                    "data": {
                        "text/plain": "array([ 0.        ,  0.        ,  0.        ,  0.9       ,  1.66666667,\n        2.35714286,  3.        ])"
                    },
                    "execution_count": null
                }
            ]
        },
        {
            "id": "cc4d8d26",
            "cell_type": "code",
            "metadata": {},
            "execution_count": null,
            "source": "pywt.threshold(data, 2, 'greater')",
            "outputs": [
                {
                    "output_type": "execute_result",
                    "metadata": {},
                    "data": {
                        "text/plain": "array([ 0. ,  0. ,  2. ,  2.5,  3. ,  3.5,  4. ])"
                    },
                    "execution_count": null
                }
            ]
        },
        {
            "id": "880777a2",
            "cell_type": "code",
            "metadata": {},
            "execution_count": null,
            "source": "pywt.threshold(data, 2, 'less')",
            "outputs": [
                {
                    "output_type": "execute_result",
                    "metadata": {},
                    "data": {
                        "text/plain": "array([ 1. ,  1.5,  2. ,  0. ,  0. ,  0. ,  0. ])"
                    },
                    "execution_count": null
                }
            ]
        }
    ]
}