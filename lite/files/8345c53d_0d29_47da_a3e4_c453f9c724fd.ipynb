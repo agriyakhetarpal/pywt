{
    "nbformat": 4,
    "nbformat_minor": 5,
    "metadata": {
        "kernelspec": {
            "display_name": "Python",
            "language": "python",
            "name": "python"
        },
        "language_info": {
            "name": "python"
        }
    },
    "cells": [
        {
            "id": "91a93084",
            "cell_type": "markdown",
            "source": "<div class='alert alert-warning'>\n\nThese interactive examples with JupyterLite are experimental and\nmay not always work as expected. The execution of cells containing import\nstatements can result in high bandwidth usage and may take a long time to\nload. They may not be in sync with the latest PyWavelets release.\n\nShall you encounter any issues, please feel free to report them on the\n[PyWavelets issue tracker](https://github.com/PyWavelets/pywt/issues).\n\n</div>",
            "metadata": {}
        },
        {
            "id": "736b6ac9",
            "cell_type": "code",
            "metadata": {},
            "execution_count": null,
            "source": "import pywt\ndata = [1,2,3,4,5,6]\n(cA, cD) = pywt.dwt(data, 'db2', 'smooth')\npywt.upcoef('a', cA, 'db2') + pywt.upcoef('d', cD, 'db2')",
            "outputs": [
                {
                    "output_type": "execute_result",
                    "metadata": {},
                    "data": {
                        "text/plain": "array([-0.25      , -0.4330127 ,  1.        ,  2.        ,  3.        ,\n        4.        ,  5.        ,  6.        ,  1.78589838, -1.03108891])"
                    },
                    "execution_count": null
                }
            ]
        },
        {
            "id": "7156acc7",
            "cell_type": "code",
            "metadata": {},
            "execution_count": null,
            "source": "n = len(data)\npywt.upcoef('a', cA, 'db2', take=n) + pywt.upcoef('d', cD, 'db2', take=n)",
            "outputs": [
                {
                    "output_type": "execute_result",
                    "metadata": {},
                    "data": {
                        "text/plain": "array([ 1.,  2.,  3.,  4.,  5.,  6.])"
                    },
                    "execution_count": null
                }
            ]
        }
    ]
}