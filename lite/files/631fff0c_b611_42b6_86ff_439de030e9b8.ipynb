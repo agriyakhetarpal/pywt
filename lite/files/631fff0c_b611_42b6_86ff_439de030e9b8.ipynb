{
    "nbformat": 4,
    "nbformat_minor": 5,
    "metadata": {
        "kernelspec": {
            "display_name": "Python",
            "language": "python",
            "name": "python"
        },
        "language_info": {
            "name": "python"
        }
    },
    "cells": [
        {
            "id": "d6634bba",
            "cell_type": "markdown",
            "source": "<div class='alert alert-warning'>\n\nThese interactive examples with JupyterLite are experimental and\nmay not always work as expected. The execution of cells containing import\nstatements can result in high bandwidth usage and may take a long time to\nload. They may not be in sync with the latest PyWavelets release.\n\nShall you encounter any issues, please feel free to report them on the\n[PyWavelets issue tracker](https://github.com/PyWavelets/pywt/issues).\n\n</div>",
            "metadata": {}
        },
        {
            "id": "31fbd6a8",
            "cell_type": "code",
            "metadata": {},
            "execution_count": null,
            "source": "import pywt\npywt.wavedecn_shapes((64, 32), wavelet='db2', level=3, axes=(0, ))",
            "outputs": [
                {
                    "output_type": "execute_result",
                    "metadata": {},
                    "data": {
                        "text/plain": "[(10, 32), {'d': (10, 32)}, {'d': (18, 32)}, {'d': (33, 32)}]"
                    },
                    "execution_count": null
                }
            ]
        }
    ]
}