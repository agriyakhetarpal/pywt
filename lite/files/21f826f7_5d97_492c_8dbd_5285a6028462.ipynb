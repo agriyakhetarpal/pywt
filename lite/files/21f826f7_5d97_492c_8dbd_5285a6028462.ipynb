{
    "nbformat": 4,
    "nbformat_minor": 5,
    "metadata": {
        "kernelspec": {
            "display_name": "Python",
            "language": "python",
            "name": "python"
        },
        "language_info": {
            "name": "python"
        }
    },
    "cells": [
        {
            "id": "255f41ee",
            "cell_type": "markdown",
            "source": "  >>> import pywt\n  >>> print(pywt.Modes.modes)\n  ['zero', 'constant', 'symmetric', 'periodic', 'smooth', 'periodization', 'reflect', 'antisymmetric', 'antireflect']",
            "metadata": {}
        }
    ]
}