{
    "nbformat": 4,
    "nbformat_minor": 5,
    "metadata": {
        "kernelspec": {
            "display_name": "Python",
            "language": "python",
            "name": "python"
        },
        "language_info": {
            "name": "python"
        }
    },
    "cells": [
        {
            "id": "14a8099a",
            "cell_type": "markdown",
            "source": "<div class='alert alert-warning'>\n\nThese interactive examples with JupyterLite are experimental and\nmay not always work as expected. The execution of cells containing import\nstatements can result in high bandwidth usage and may take a long time to\nload. They may not be in sync with the latest PyWavelets release.\n\nShall you encounter any issues, please feel free to report them on the\n[PyWavelets issue tracker](https://github.com/PyWavelets/pywt/issues).\n\n</div>",
            "metadata": {}
        },
        {
            "id": "63ad6469",
            "cell_type": "code",
            "metadata": {},
            "execution_count": null,
            "source": "import pywt\npywt.wavelist('coif')",
            "outputs": [
                {
                    "output_type": "execute_result",
                    "metadata": {},
                    "data": {
                        "text/plain": "['coif1', 'coif2', 'coif3', 'coif4', 'coif5', 'coif6', 'coif7', ..."
                    },
                    "execution_count": null
                }
            ]
        },
        {
            "id": "974637e7",
            "cell_type": "code",
            "metadata": {},
            "execution_count": null,
            "source": "pywt.wavelist(kind='continuous')",
            "outputs": [
                {
                    "output_type": "execute_result",
                    "metadata": {},
                    "data": {
                        "text/plain": "['cgau1', 'cgau2', 'cgau3', 'cgau4', 'cgau5', 'cgau6', 'cgau7', ..."
                    },
                    "execution_count": null
                }
            ]
        }
    ]
}