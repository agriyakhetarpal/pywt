{
    "nbformat": 4,
    "nbformat_minor": 5,
    "metadata": {
        "kernelspec": {
            "display_name": "Python",
            "language": "python",
            "name": "python"
        },
        "language_info": {
            "name": "python"
        }
    },
    "cells": [
        {
            "id": "6e6b48f6",
            "cell_type": "markdown",
            "source": "  >>> import pywt\n  >>> wavelist = pywt.wavelist(kind='continuous')",
            "metadata": {}
        }
    ]
}