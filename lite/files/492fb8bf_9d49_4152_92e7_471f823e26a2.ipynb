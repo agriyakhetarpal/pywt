{
    "nbformat": 4,
    "nbformat_minor": 5,
    "metadata": {
        "kernelspec": {
            "display_name": "Python",
            "language": "python",
            "name": "python"
        },
        "language_info": {
            "name": "python"
        }
    },
    "cells": [
        {
            "id": "25c1d6ea",
            "cell_type": "code",
            "metadata": {},
            "execution_count": null,
            "source": "def format_array(arr):\n    return \"[%s]\" % \", \".join([\"%.14f\" % x for x in arr])",
            "outputs": []
        },
        {
            "id": "d3388d9a",
            "cell_type": "code",
            "metadata": {},
            "execution_count": null,
            "source": "import pywt\nwavelet = pywt.Wavelet('db1')\nprint(wavelet)",
            "outputs": [
                {
                    "output_type": "execute_result",
                    "metadata": {},
                    "data": {
                        "text/plain": "Wavelet db1\n  Family name:    Daubechies\n  Short name:     db\n  Filters length: 2\n  Orthogonal:     True\n  Biorthogonal:   True\n  Symmetry:       asymmetric\n  DWT:            True\n  CWT:            False"
                    },
                    "execution_count": null
                }
            ]
        },
        {
            "id": "1c4cdb94",
            "cell_type": "code",
            "metadata": {},
            "execution_count": null,
            "source": "print(format_array(wavelet.dec_lo), format_array(wavelet.dec_hi))",
            "outputs": [
                {
                    "output_type": "execute_result",
                    "metadata": {},
                    "data": {
                        "text/plain": "[0.70710678118655, 0.70710678118655] [-0.70710678118655, 0.70710678118655]"
                    },
                    "execution_count": null
                }
            ]
        },
        {
            "id": "f51053cc",
            "cell_type": "code",
            "metadata": {},
            "execution_count": null,
            "source": "print(format_array(wavelet.rec_lo), format_array(wavelet.rec_hi))",
            "outputs": [
                {
                    "output_type": "execute_result",
                    "metadata": {},
                    "data": {
                        "text/plain": "[0.70710678118655, 0.70710678118655] [0.70710678118655, -0.70710678118655]"
                    },
                    "execution_count": null
                }
            ]
        }
    ]
}