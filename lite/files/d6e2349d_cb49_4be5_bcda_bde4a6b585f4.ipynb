{
    "nbformat": 4,
    "nbformat_minor": 5,
    "metadata": {
        "kernelspec": {
            "display_name": "Python",
            "language": "python",
            "name": "python"
        },
        "language_info": {
            "name": "python"
        }
    },
    "cells": [
        {
            "id": "ae87bbef",
            "cell_type": "markdown",
            "source": "<div class='alert alert-warning'>\n\nThese interactive examples with JupyterLite are experimental and\nmay not always work as expected. The execution of cells containing import\nstatements can result in high bandwidth usage and may take a long time to\nload. They may not be in sync with the latest PyWavelets release.\n\nShall you encounter any issues, please feel free to report them on the\n[PyWavelets issue tracker](https://github.com/PyWavelets/pywt/issues).\n\n</div>",
            "metadata": {}
        },
        {
            "id": "ff9e3631",
            "cell_type": "code",
            "metadata": {},
            "execution_count": null,
            "source": "import pywt\ncoeffs = pywt.wavedec([1,2,3,4,5,6,7,8], 'db1', level=2)\npywt.waverec(coeffs, 'db1')",
            "outputs": [
                {
                    "output_type": "execute_result",
                    "metadata": {},
                    "data": {
                        "text/plain": "array([ 1.,  2.,  3.,  4.,  5.,  6.,  7.,  8.])"
                    },
                    "execution_count": null
                }
            ]
        }
    ]
}