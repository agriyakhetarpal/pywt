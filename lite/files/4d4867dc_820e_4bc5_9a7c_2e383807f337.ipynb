{
    "nbformat": 4,
    "nbformat_minor": 5,
    "metadata": {
        "kernelspec": {
            "display_name": "Python",
            "language": "python",
            "name": "python"
        },
        "language_info": {
            "name": "python"
        }
    },
    "cells": [
        {
            "id": "1da9834c",
            "cell_type": "markdown",
            "source": "  >>> import numpy as np\n  >>> import pywt\n  >>> dt = 0.01  # 100 Hz sampling\n  >>> fs = 1 / dt\n  >>> frequencies = np.array([100, 50, 33.33333333, 25]) / fs # normalize\n  >>> scale = pywt.frequency2scale('cmor1.5-1.0', frequencies)\n  >>> scale\n  array([ 1.,  2.,  3.,  4.])",
            "metadata": {}
        }
    ]
}