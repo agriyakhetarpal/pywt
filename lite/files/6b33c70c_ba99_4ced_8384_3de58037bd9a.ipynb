{
    "nbformat": 4,
    "nbformat_minor": 5,
    "metadata": {
        "kernelspec": {
            "display_name": "Python",
            "language": "python",
            "name": "python"
        },
        "language_info": {
            "name": "python"
        }
    },
    "cells": [
        {
            "id": "f1b2a5d1",
            "cell_type": "code",
            "metadata": {},
            "execution_count": null,
            "source": "import pywt\nwavelet = pywt.Wavelet('db1')",
            "outputs": []
        }
    ]
}