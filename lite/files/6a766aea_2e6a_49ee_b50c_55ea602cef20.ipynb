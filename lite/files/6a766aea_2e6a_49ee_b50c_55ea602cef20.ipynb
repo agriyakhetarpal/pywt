{
    "nbformat": 4,
    "nbformat_minor": 5,
    "metadata": {
        "kernelspec": {
            "display_name": "Python",
            "language": "python",
            "name": "python"
        },
        "language_info": {
            "name": "python"
        }
    },
    "cells": [
        {
            "id": "4358a2a8",
            "cell_type": "code",
            "metadata": {},
            "execution_count": null,
            "source": "import pywt\nwavelet = pywt.ContinuousWavelet('gaus1')\npsi, x = wavelet.wavefun(level=5)",
            "outputs": []
        }
    ]
}