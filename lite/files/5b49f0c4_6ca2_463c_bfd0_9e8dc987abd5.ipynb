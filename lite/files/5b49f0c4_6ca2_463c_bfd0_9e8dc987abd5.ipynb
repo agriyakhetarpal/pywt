{
    "nbformat": 4,
    "nbformat_minor": 5,
    "metadata": {
        "kernelspec": {
            "display_name": "Python",
            "language": "python",
            "name": "python"
        },
        "language_info": {
            "name": "python"
        }
    },
    "cells": [
        {
            "id": "0b328b56",
            "cell_type": "markdown",
            "source": "  >>> import pywt\n  >>> wavelist = pywt.wavelist(kind='continuous')",
            "metadata": {}
        }
    ]
}