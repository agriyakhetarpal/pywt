{
    "nbformat": 4,
    "nbformat_minor": 5,
    "metadata": {
        "kernelspec": {
            "display_name": "Python",
            "language": "python",
            "name": "python"
        },
        "language_info": {
            "name": "python"
        }
    },
    "cells": [
        {
            "id": "1ba0555c",
            "cell_type": "markdown",
            "source": "<div class='alert alert-warning'>\n\nThese interactive examples with JupyterLite are experimental and\nmay not always work as expected. The execution of cells containing import\nstatements can result in high bandwidth usage and may take a long time to\nload. They may not be in sync with the latest PyWavelets release.\n\nShall you encounter any issues, please feel free to report them on the\n[PyWavelets issue tracker](https://github.com/PyWavelets/pywt/issues).\n\n</div>",
            "metadata": {}
        },
        {
            "id": "b5cc7d9c",
            "cell_type": "code",
            "metadata": {},
            "execution_count": null,
            "source": "import pywt\n(cA, cD) = pywt.dwt([1, 2, 3, 4, 5, 6], 'db1')\ncA",
            "outputs": [
                {
                    "output_type": "execute_result",
                    "metadata": {},
                    "data": {
                        "text/plain": "array([ 2.12132034,  4.94974747,  7.77817459])"
                    },
                    "execution_count": null
                }
            ]
        },
        {
            "id": "c4ae5562",
            "cell_type": "code",
            "metadata": {},
            "execution_count": null,
            "source": "cD",
            "outputs": [
                {
                    "output_type": "execute_result",
                    "metadata": {},
                    "data": {
                        "text/plain": "array([-0.70710678, -0.70710678, -0.70710678])"
                    },
                    "execution_count": null
                }
            ]
        }
    ]
}