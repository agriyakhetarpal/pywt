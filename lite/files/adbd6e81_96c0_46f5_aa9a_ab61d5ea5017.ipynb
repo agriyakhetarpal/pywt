{
    "nbformat": 4,
    "nbformat_minor": 5,
    "metadata": {
        "kernelspec": {
            "display_name": "Python",
            "language": "python",
            "name": "python"
        },
        "language_info": {
            "name": "python"
        }
    },
    "cells": [
        {
            "id": "9cff836e",
            "cell_type": "code",
            "metadata": {},
            "execution_count": null,
            "source": "import pywt\nwavelet = pywt.Wavelet('bior3.5')\nphi_d, psi_d, phi_r, psi_r, x = wavelet.wavefun(level=5)",
            "outputs": []
        }
    ]
}