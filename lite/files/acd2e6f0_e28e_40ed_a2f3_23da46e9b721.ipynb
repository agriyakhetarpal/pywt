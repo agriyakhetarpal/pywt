{
    "nbformat": 4,
    "nbformat_minor": 5,
    "metadata": {
        "kernelspec": {
            "display_name": "Python",
            "language": "python",
            "name": "python"
        },
        "language_info": {
            "name": "python"
        }
    },
    "cells": [
        {
            "id": "962676d9",
            "cell_type": "markdown",
            "source": "  >>> import numpy as np\n  >>> import pywt\n  >>> dt = 0.01  # 100 Hz sampling\n  >>> frequencies = pywt.scale2frequency('cmor1.5-1.0', [1, 2, 3, 4]) / dt\n  >>> frequencies\n  array([ 100.        ,   50.        ,   33.33333333,   25.        ])",
            "metadata": {}
        }
    ]
}