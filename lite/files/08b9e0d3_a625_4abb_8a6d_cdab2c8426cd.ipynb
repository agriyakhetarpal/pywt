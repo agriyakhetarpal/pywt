{
    "nbformat": 4,
    "nbformat_minor": 5,
    "metadata": {
        "kernelspec": {
            "display_name": "Python",
            "language": "python",
            "name": "python"
        },
        "language_info": {
            "name": "python"
        }
    },
    "cells": [
        {
            "id": "e5e840fc",
            "cell_type": "code",
            "metadata": {},
            "execution_count": null,
            "source": "import pywt, math\nc = math.sqrt(2)/2\ndec_lo, dec_hi, rec_lo, rec_hi = [c, c], [-c, c], [c, c], [c, -c]\nfilter_bank = [dec_lo, dec_hi, rec_lo, rec_hi]\nmyWavelet = pywt.Wavelet(name=\"myHaarWavelet\", filter_bank=filter_bank)\n\nclass HaarFilterBank(object):\n    @property\n    def filter_bank(self):\n        c = math.sqrt(2)/2\n        dec_lo, dec_hi, rec_lo, rec_hi = [c, c], [-c, c], [c, c], [c, -c]\n        return [dec_lo, dec_hi, rec_lo, rec_hi]\nfilter_bank = HaarFilterBank()\nmyOtherWavelet = pywt.Wavelet(name=\"myHaarWavelet\", filter_bank=filter_bank)",
            "outputs": []
        }
    ]
}