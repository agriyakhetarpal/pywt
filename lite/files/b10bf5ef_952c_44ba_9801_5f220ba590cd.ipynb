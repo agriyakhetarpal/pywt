{
    "nbformat": 4,
    "nbformat_minor": 5,
    "metadata": {
        "kernelspec": {
            "display_name": "Python",
            "language": "python",
            "name": "python"
        },
        "language_info": {
            "name": "python"
        }
    },
    "cells": [
        {
            "id": "cd8e0070",
            "cell_type": "markdown",
            "source": "<div class='alert alert-warning'>\n\nThese interactive examples with JupyterLite are experimental and\nmay not always work as expected. The execution of cells containing import\nstatements can result in high bandwidth usage and may take a long time to\nload. They may not be in sync with the latest PyWavelets release.\n\nShall you encounter any issues, please feel free to report them on the\n[PyWavelets issue tracker](https://github.com/PyWavelets/pywt/issues).\n\n</div>",
            "metadata": {}
        },
        {
            "id": "afe4d019",
            "cell_type": "code",
            "metadata": {},
            "execution_count": null,
            "source": "import numpy as np\nimport pywt\ndata_shape = (64, 32)\nshapes = pywt.wavedecn_shapes(data_shape, 'db2', mode='periodization')\npywt.wavedecn_size(shapes)",
            "outputs": [
                {
                    "output_type": "execute_result",
                    "metadata": {},
                    "data": {
                        "text/plain": "2048"
                    },
                    "execution_count": null
                }
            ]
        },
        {
            "id": "725ebc28",
            "cell_type": "code",
            "metadata": {},
            "execution_count": null,
            "source": "coeffs = pywt.wavedecn(np.ones(data_shape), 'sym4', mode='symmetric')\npywt.wavedecn_size(coeffs)",
            "outputs": [
                {
                    "output_type": "execute_result",
                    "metadata": {},
                    "data": {
                        "text/plain": "3087"
                    },
                    "execution_count": null
                }
            ]
        }
    ]
}