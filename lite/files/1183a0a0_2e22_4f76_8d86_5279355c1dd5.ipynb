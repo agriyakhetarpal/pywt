{
    "nbformat": 4,
    "nbformat_minor": 5,
    "metadata": {
        "kernelspec": {
            "display_name": "Python",
            "language": "python",
            "name": "python"
        },
        "language_info": {
            "name": "python"
        }
    },
    "cells": [
        {
            "id": "e79d5f5b",
            "cell_type": "markdown",
            "source": "<div class='alert alert-warning'>\n\nThese interactive examples with JupyterLite are experimental and\nmay not always work as expected. The execution of cells containing import\nstatements can result in high bandwidth usage and may take a long time to\nload. They may not be in sync with the latest PyWavelets release.\n\nShall you encounter any issues, please feel free to report them on the\n[PyWavelets issue tracker](https://github.com/PyWavelets/pywt/issues).\n\n</div>",
            "metadata": {}
        },
        {
            "id": "50f9fcda",
            "cell_type": "code",
            "metadata": {},
            "execution_count": null,
            "source": "import pywt, math\nc = math.sqrt(2)/2\ndec_lo, dec_hi, rec_lo, rec_hi = [c, c], [-c, c], [c, c], [c, -c]\nfilter_bank = [dec_lo, dec_hi, rec_lo, rec_hi]\nmyWavelet = pywt.Wavelet(name=\"myHaarWavelet\", filter_bank=filter_bank)\n\nclass HaarFilterBank(object):\n    @property\n    def filter_bank(self):\n        c = math.sqrt(2)/2\n        dec_lo, dec_hi, rec_lo, rec_hi = [c, c], [-c, c], [c, c], [c, -c]\n        return [dec_lo, dec_hi, rec_lo, rec_hi]\nfilter_bank = HaarFilterBank()\nmyOtherWavelet = pywt.Wavelet(name=\"myHaarWavelet\", filter_bank=filter_bank)",
            "outputs": []
        }
    ]
}