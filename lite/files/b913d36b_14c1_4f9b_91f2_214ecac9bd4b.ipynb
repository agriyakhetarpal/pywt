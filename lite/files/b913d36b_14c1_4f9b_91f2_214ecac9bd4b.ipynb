{
    "nbformat": 4,
    "nbformat_minor": 5,
    "metadata": {
        "kernelspec": {
            "display_name": "Python",
            "language": "python",
            "name": "python"
        },
        "language_info": {
            "name": "python"
        }
    },
    "cells": [
        {
            "id": "3dc2bd2e",
            "cell_type": "markdown",
            "source": "<div class='alert alert-warning'>\n\nThese interactive examples with JupyterLite are experimental and\nmay not always work as expected. The execution of cells containing import\nstatements can result in high bandwidth usage and may take a long time to\nload. They may not be in sync with the latest PyWavelets release.\n\nShall you encounter any issues, please feel free to report them on the\n[PyWavelets issue tracker](https://github.com/PyWavelets/pywt/issues).\n\n</div>",
            "metadata": {}
        },
        {
            "id": "6bee56ba",
            "cell_type": "code",
            "metadata": {},
            "execution_count": null,
            "source": "from pywt import Wavelet, integrate_wavelet\nwavelet1 = Wavelet('db2')\n[int_psi, x] = integrate_wavelet(wavelet1, precision=5)\nwavelet2 = Wavelet('bior1.3')\n[int_psi_d, int_psi_r, x] = integrate_wavelet(wavelet2, precision=5)",
            "outputs": []
        }
    ]
}