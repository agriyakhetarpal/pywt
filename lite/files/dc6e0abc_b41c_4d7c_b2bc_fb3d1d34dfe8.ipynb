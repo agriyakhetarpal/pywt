{
    "nbformat": 4,
    "nbformat_minor": 5,
    "metadata": {
        "kernelspec": {
            "display_name": "Python",
            "language": "python",
            "name": "python"
        },
        "language_info": {
            "name": "python"
        }
    },
    "cells": [
        {
            "id": "21557ec1",
            "cell_type": "code",
            "metadata": {},
            "execution_count": null,
            "source": "import pywt\nwavelet = pywt.ContinuousWavelet('gaus1')",
            "outputs": []
        }
    ]
}