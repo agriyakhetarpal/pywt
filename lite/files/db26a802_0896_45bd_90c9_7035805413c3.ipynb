{
    "nbformat": 4,
    "nbformat_minor": 5,
    "metadata": {
        "kernelspec": {
            "display_name": "Python",
            "language": "python",
            "name": "python"
        },
        "language_info": {
            "name": "python"
        }
    },
    "cells": [
        {
            "id": "4b6ca42f",
            "cell_type": "markdown",
            "source": "<div class='alert alert-warning'>\n\nThese interactive examples with JupyterLite are experimental and\nmay not always work as expected. The execution of cells containing import\nstatements can result in high bandwidth usage and may take a long time to\nload. They may not be in sync with the latest PyWavelets release.\n\nShall you encounter any issues, please feel free to report them on the\n[PyWavelets issue tracker](https://github.com/PyWavelets/pywt/issues).\n\n</div>",
            "metadata": {}
        },
        {
            "id": "98155c41",
            "cell_type": "code",
            "metadata": {},
            "execution_count": null,
            "source": "import pywt\n(cA, cD) = pywt.dwt([1,2,3,4,5,6], 'db2', 'smooth')\npywt.idwt(cA, cD, 'db2', 'smooth')",
            "outputs": [
                {
                    "output_type": "execute_result",
                    "metadata": {},
                    "data": {
                        "text/plain": "array([ 1.,  2.,  3.,  4.,  5.,  6.])"
                    },
                    "execution_count": null
                }
            ]
        },
        {
            "id": "b0c0d65e",
            "cell_type": "markdown",
            "source": "One of the neat features of ``idwt`` is that one of the ``cA`` and ``cD``\narguments can be set to None.  In that situation the reconstruction will be\nperformed using only the other one.  Mathematically speaking, this is\nequivalent to passing a zero-filled array as one of the arguments.\n",
            "metadata": {}
        },
        {
            "id": "1fa16e53",
            "cell_type": "code",
            "metadata": {},
            "execution_count": null,
            "source": "(cA, cD) = pywt.dwt([1,2,3,4,5,6], 'db2', 'smooth')\nA = pywt.idwt(cA, None, 'db2', 'smooth')\nD = pywt.idwt(None, cD, 'db2', 'smooth')\nA + D",
            "outputs": [
                {
                    "output_type": "execute_result",
                    "metadata": {},
                    "data": {
                        "text/plain": "array([ 1.,  2.,  3.,  4.,  5.,  6.])"
                    },
                    "execution_count": null
                }
            ]
        }
    ]
}