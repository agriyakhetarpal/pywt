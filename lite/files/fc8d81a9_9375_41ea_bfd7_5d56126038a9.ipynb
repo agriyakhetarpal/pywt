{
    "nbformat": 4,
    "nbformat_minor": 5,
    "metadata": {
        "kernelspec": {
            "display_name": "Python",
            "language": "python",
            "name": "python"
        },
        "language_info": {
            "name": "python"
        }
    },
    "cells": [
        {
            "id": "d4f5bde7",
            "cell_type": "markdown",
            "source": "<div class='alert alert-warning'>\n\nThese interactive examples with JupyterLite are experimental and\nmay not always work as expected. The execution of cells containing import\nstatements can result in high bandwidth usage and may take a long time to\nload. They may not be in sync with the latest PyWavelets release.\n\nShall you encounter any issues, please feel free to report them on the\n[PyWavelets issue tracker](https://github.com/PyWavelets/pywt/issues).\n\n</div>",
            "metadata": {}
        },
        {
            "id": "34ecd133",
            "cell_type": "code",
            "metadata": {},
            "execution_count": null,
            "source": "from pywt import fswavedecn\nfs_result = fswavedecn(np.ones((32, 32)), 'sym2', levels=(1, 3))\nprint(fs_result.detail_keys())",
            "outputs": [
                {
                    "output_type": "execute_result",
                    "metadata": {},
                    "data": {
                        "text/plain": "[(0, 1), (0, 2), (0, 3), (1, 0), (1, 1), (1, 2), (1, 3)]"
                    },
                    "execution_count": null
                }
            ]
        },
        {
            "id": "8dd9f501",
            "cell_type": "code",
            "metadata": {},
            "execution_count": null,
            "source": "approx_coeffs = fs_result.approx\ndetail_1_2 = fs_result[(1, 2)]",
            "outputs": []
        }
    ]
}