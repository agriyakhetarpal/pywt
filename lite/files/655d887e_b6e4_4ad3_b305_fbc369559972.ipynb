{
    "nbformat": 4,
    "nbformat_minor": 5,
    "metadata": {
        "kernelspec": {
            "display_name": "Python",
            "language": "python",
            "name": "python"
        },
        "language_info": {
            "name": "python"
        }
    },
    "cells": [
        {
            "id": "9b074d31",
            "cell_type": "markdown",
            "source": "<div class='alert alert-warning'>\n\nThese interactive examples with JupyterLite are experimental and\nmay not always work as expected. The execution of cells containing import\nstatements can result in high bandwidth usage and may take a long time to\nload. They may not be in sync with the latest PyWavelets release.\n\nShall you encounter any issues, please feel free to report them on the\n[PyWavelets issue tracker](https://github.com/PyWavelets/pywt/issues).\n\n</div>",
            "metadata": {}
        },
        {
            "id": "80451255",
            "cell_type": "code",
            "metadata": {},
            "execution_count": null,
            "source": "import pywt\ncoeffs = pywt.swt2([[1,2,3,4],[5,6,7,8],\n                    [9,10,11,12],[13,14,15,16]],\n                   'db1', level=2)\npywt.iswt2(coeffs, 'db1')",
            "outputs": [
                {
                    "output_type": "execute_result",
                    "metadata": {},
                    "data": {
                        "text/plain": "array([[  1.,   2.,   3.,   4.],\n       [  5.,   6.,   7.,   8.],\n       [  9.,  10.,  11.,  12.],\n       [ 13.,  14.,  15.,  16.]])"
                    },
                    "execution_count": null
                }
            ]
        }
    ]
}