{
    "nbformat": 4,
    "nbformat_minor": 5,
    "metadata": {
        "kernelspec": {
            "display_name": "Python",
            "language": "python",
            "name": "python"
        },
        "language_info": {
            "name": "python"
        }
    },
    "cells": [
        {
            "id": "4f7bb67a",
            "cell_type": "markdown",
            "source": "  >>> import pywt\n  >>> wavelist = pywt.wavelist(kind='continuous')",
            "metadata": {}
        }
    ]
}